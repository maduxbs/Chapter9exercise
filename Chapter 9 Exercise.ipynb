{
 "cells": [
  {
   "cell_type": "markdown",
   "id": "cce98c29",
   "metadata": {},
   "source": [
    "## Programming Exercises"
   ]
  },
  {
   "cell_type": "code",
   "execution_count": 3,
   "id": "53fdbbdb",
   "metadata": {},
   "outputs": [
    {
     "name": "stdout",
     "output_type": "stream",
     "text": [
      "File 'WorldSeriesWinners.txt' not found in the current or parent directories.\n",
      "Please choose one of the following options:\n",
      "1. Manually enter the full path to the file.\n",
      "2. Download the file from a specific source.\n",
      "3. Create the file with the required data.\n",
      "Enter the option number (1/2/3): 2\n",
      "Downloading the file from a reliable source...\n"
     ]
    }
   ],
   "source": [
    "import os\n",
    "\n",
    "# Function to search for the file in the current and parent directories\n",
    "def find_file(start_dir, file_name):\n",
    "    current_dir = start_dir\n",
    "    while True:\n",
    "        file_path = os.path.join(current_dir, file_name)\n",
    "        if os.path.isfile(file_path):\n",
    "            return file_path\n",
    "        parent_dir = os.path.dirname(current_dir)\n",
    "        if parent_dir == current_dir:\n",
    "            break  # Reached the root directory\n",
    "        current_dir = parent_dir\n",
    "    return None\n",
    "\n",
    "# Specify the name of the data file\n",
    "file_name = \"WorldSeriesWinners.txt\"\n",
    "\n",
    "# Try to find the file in the current and parent directories\n",
    "file_path = find_file(os.getcwd(), file_name)\n",
    "\n",
    "if file_path:\n",
    "    # File found, proceed with reading the data\n",
    "    print(f\"Found the '{file_name}' file at: {file_path}\")\n",
    "    # Read and process the file here\n",
    "else:\n",
    "    # File not found, provide user options\n",
    "    print(f\"File '{file_name}' not found in the current or parent directories.\")\n",
    "    print(\"Please choose one of the following options:\")\n",
    "    print(\"1. Manually enter the full path to the file.\")\n",
    "    print(\"2. Download the file from a specific source.\")\n",
    "    print(\"3. Create the file with the required data.\")\n",
    "    choice = input(\"Enter the option number (1/2/3): \")\n",
    "\n",
    "    if choice == \"1\":\n",
    "        file_path = input(\"Enter the full path to the 'WorldSeriesWinners.txt' file: \")\n",
    "        if os.path.isfile(file_path):\n",
    "            # Proceed with reading the file\n",
    "            print(f\"Reading data from the specified file: {file_path}\")\n",
    "        else:\n",
    "            print(\"File not found at the specified path.\")\n",
    "    elif choice == \"2\":\n",
    "        # Implement code to download the file from a reliable source\n",
    "        print(\"Downloading the file from a reliable source...\")\n",
    "    elif choice == \"3\":\n",
    "        # Implement code to create the file with the required data\n",
    "        print(\"Creating the file with the required data...\")\n",
    "    else:\n",
    "        print(\"Invalid option. Please choose a valid option (1/2/3).\")"
   ]
  },
  {
   "cell_type": "markdown",
   "id": "d42892e5",
   "metadata": {},
   "source": [
    "## We begin by importing the os module, which provides functions for interacting with the operating system.\n",
    "\n",
    "1.We begin by importing the 'os' module, which provides functions for interacting with the operating system.\n",
    "\n",
    "2.We define a function called 'find_file' that will search for a file in the current directory and its parent directories. It takes two arguments: 'start_dir' (the directory to start searching from) and file_name (the name of the file to search for).\n",
    "\n",
    "3.We specify the name of the data file as 'file_name' (in this case, \"WorldSeriesWinners.txt\").\n",
    "\n",
    "4.Inside the 'find_file' function, we initialize 'current_dir' with the provided 'start_dir'. We then enter a while loop that searches for the file.\n",
    "\n",
    "5.Within the loop, we construct the full path to the file using 'os.path.join' and check if the file exists with 'os.path.isfile'. If the file is found, we return its path; otherwise, we continue searching in the parent directory.\n",
    "\n",
    "6.The loop continues until we find the file or reach the root directory.\n",
    "\n",
    "7.If the file is found, 'file_path' will contain the full path to the file, and we can proceed with reading the data. We display a message indicating that the file was found.\n",
    "\n",
    "8.If the file is not found, we provide user options for how to handle this situation:\n",
    " \n",
    "    We print an error message explaining that the file was not found in the current or parent directories.\n",
    "    We present three options to the user:\n",
    "                Manually enter the full path to the file.\n",
    "                Download the file from a specific source.\n",
    "                Create the file with the required data.\n",
    "\n",
    "9.The user is prompted to enter an option number (1, 2, or 3) to choose how to proceed.\n",
    "\n",
    "10.If the user chooses option 1, they are prompted to manually enter the full path to the 'WorldSeriesWinners.txt' file. We check if the file exists at the specified path and, if found, proceed with reading the file.\n",
    "\n",
    "11.If the user chooses option 2, you would need to implement the code for downloading the file from a reliable source. You can replace the comment with the actual code to download the file.\n",
    "\n",
    "12.If the user chooses option 3, you would need to implement the code for creating the file with the required data. Again, replace the comment with the actual code to create the file.\n",
    "\n",
    "13.If the user enters an invalid option, they are informed that their choice is invalid and prompted to choose a valid option."
   ]
  },
  {
   "cell_type": "code",
   "execution_count": null,
   "id": "ca65d7fe",
   "metadata": {},
   "outputs": [],
   "source": []
  }
 ],
 "metadata": {
  "kernelspec": {
   "display_name": "Python 3 (ipykernel)",
   "language": "python",
   "name": "python3"
  },
  "language_info": {
   "codemirror_mode": {
    "name": "ipython",
    "version": 3
   },
   "file_extension": ".py",
   "mimetype": "text/x-python",
   "name": "python",
   "nbconvert_exporter": "python",
   "pygments_lexer": "ipython3",
   "version": "3.11.4"
  }
 },
 "nbformat": 4,
 "nbformat_minor": 5
}
